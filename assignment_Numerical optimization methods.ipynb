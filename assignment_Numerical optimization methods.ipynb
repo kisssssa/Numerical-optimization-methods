{
  "cells": [
    {
      "cell_type": "code",
      "execution_count": null,
      "metadata": {
        "id": "PUqYR1wuP7ke",
        "outputId": "5f5ba024-60e6-4ced-b76c-125f132a6bcf"
      },
      "outputs": [
        {
          "data": {
            "image/png": "[encoded data removed]",
            "text/plain": "<IPython.core.display.Image object>"
          },
          "metadata": {},
          "output_type": "display_data"
        }
      ],
      "source": [
        "from IPython.display import Image\n",
        "display(Image('image.png'))"
      ]
    },
    {
      "cell_type": "code",
      "execution_count": null,
      "outputs": [],
      "source": [
        "import sympy # Библиотека для символьных вычислений\n",
        "import numpy as np # работа с массивами"
      ],
      "metadata": {
        "id": "fJhNzRJoP7ki"
      }
    },
    {
      "cell_type": "code",
      "execution_count": null,
      "outputs": [],
      "source": [
        "x, y = sympy.symbols('x y')\n",
        "f = x**2 + 2.5*(y**2) - 3*x + 4*y\n",
        "x0, y0 = 1., -0.7\n",
        "epsilon = 0.01"
      ],
      "metadata": {
        "id": "BejpOSKnP7kj"
      }
    },
    {
      "cell_type": "code",
      "execution_count": null,
      "outputs": [],
      "source": [
        "def gradient(f, variables):\n",
        "    \"\"\"Вычисляет градиент функции f по переменным variables.\"\"\"\n",
        "    return [sympy.diff(f, var) for var in variables]\n",
        "\n",
        "def gradient_descent(f, variables, initial_point, epsilon):\n",
        "    \"\"\"\n",
        "    Метод наискорейшего спуска для поиска минимума функции.\n",
        "\n",
        "    :param f: Функция, которую нужно минимизировать.\n",
        "    :param variables: Список переменных (x, y).\n",
        "    :param initial_point: Начальная точка (x0, y0).\n",
        "    :param epsilon: Точность вычислений.\n",
        "    :return: Точка численного глобального минимума, количество итераций,\n",
        "    список точек на каждой итерации и список значений градиента на каждой итерации.\n",
        "    \"\"\"\n",
        "    point = np.array(initial_point, dtype=float)\n",
        "    iterations = 0\n",
        "    grad_f = gradient(f, variables)\n",
        "\n",
        "    gradient_values = [float(g.evalf(subs={x: point[0], y: point[1]})) for g in grad_f]\n",
        "\n",
        "    points_list = [point.tolist()]\n",
        "    gradient_list = [gradient_values]\n",
        "\n",
        "    while True:\n",
        "        gradient_values = [float(g.evalf(subs={x: point[0], y: point[1]})) for g in grad_f]\n",
        "        if all(abs(gradient_values[i]) < epsilon for i in range(len(gradient_values))):\n",
        "            break\n",
        "        alpha = float(minimize_alpha(f, variables, point, gradient_values))\n",
        "        point -= alpha * np.array(gradient_values)\n",
        "        iterations += 1\n",
        "\n",
        "        gradient_values = [float(g.evalf(subs={x: point[0], y: point[1]})) for g in grad_f]\n",
        "\n",
        "        points_list.append(point.tolist())\n",
        "        gradient_list.append(gradient_values)\n",
        "\n",
        "    return point, iterations, points_list, gradient_list\n",
        "\n",
        "\n",
        "def minimize_alpha(f, variables, point, gradient_values):\n",
        "    \"\"\"\n",
        "    Метод одномерной оптимизации для поиска оптимального шага (alpha).\n",
        "\n",
        "    :param f: Функция, которую нужно минимизировать.\n",
        "    :param variables: Список переменных (x, y).\n",
        "    :param point: Текущая точка (x, y).\n",
        "    :param gradient_values: Значения градиента в текущей точке.\n",
        "    :return: Оптимальное значение alpha.\n",
        "    \"\"\"\n",
        "    alpha = sympy.symbols('alpha')\n",
        "    phi = f.subs({variables[0]: point[0] - alpha * gradient_values[0],\n",
        "                  variables[1]: point[1] - alpha * gradient_values[1]})\n",
        "    alpha_opt = sympy.solve(sympy.diff(phi, alpha), alpha)\n",
        "\n",
        "    return alpha_opt[0]\n",
        "\n",
        "def conjugate_gradients(f, variables, initial_point, epsilon):\n",
        "    \"\"\"\n",
        "    Метод сопряженных градиентов для поиска минимума функции.\n",
        "\n",
        "    :param f: Функция, которую нужно минимизировать.\n",
        "    :param variables: Список переменных (x, y).\n",
        "    :param initial_point: Начальная точка (x0, y0).\n",
        "    :param epsilon: Точность вычислений.\n",
        "    :return: Точка численного глобального минимума, количество итераций,\n",
        "    список точек на каждой итерации и список значений градиента на каждой итерации.\n",
        "    \"\"\"\n",
        "    point = np.array(initial_point, dtype=float)\n",
        "    iterations = 0\n",
        "    grad_f = gradient(f, variables)\n",
        "    gradient_values = [float(g.evalf(subs={x: point[0], y: point[1]})) for g in grad_f]\n",
        "    p = -np.array(gradient_values, dtype=float)\n",
        "\n",
        "    points_list = [point.tolist()]\n",
        "    gradient_list = [gradient_values]\n",
        "\n",
        "    while True:\n",
        "        if all(abs(gradient_values[i]) < epsilon for i in range(len(gradient_values))):\n",
        "            break\n",
        "        alpha = float(minimize_alpha(f, variables, point, gradient_values))\n",
        "        point += alpha * p\n",
        "        new_gradient_values = [float(g.evalf(subs={x: point[0], y: point[1]})) for g in grad_f]\n",
        "        beta = np.dot(new_gradient_values, new_gradient_values) / np.dot(gradient_values, gradient_values)\n",
        "        p = -np.array(new_gradient_values, dtype=float) + beta * p\n",
        "        gradient_values = new_gradient_values\n",
        "        iterations += 1\n",
        "\n",
        "        points_list.append(point.tolist())\n",
        "        gradient_list.append(gradient_values)\n",
        "\n",
        "    return point, iterations, points_list, gradient_list"
      ],
      "metadata": {
        "id": "dM-6qJLvP7kj"
      }
    },
    {
      "cell_type": "code",
      "execution_count": null,
      "outputs": [
        {
          "name": "stdout",
          "output_type": "stream",
          "text": [
            "Метод наискорейшего спуска:\n",
            "Начальная точка: [1.0, -0.7]\n",
            "Количество итераций: 5\n",
            "Точка численного глобального минимума: [ 1.49817181 -0.80146255]\n",
            "Точки и значения градиента на каждой итерации:\n",
            "Iteration 0: Point: [1.0, -0.7], Gradient: [-1.0, 0.5000000000000002]\n",
            "Iteration 1: Point: [1.3846153846153846, -0.8923076923076924], Gradient: [-0.23076923076923084, -0.4615384615384618]\n",
            "Iteration 2: Point: [1.4370629370629369, -0.7874125874125877], Gradient: [-0.12587412587412627, 0.06293706293706158]\n",
            "Iteration 3: Point: [1.4854760623991397, -0.8116191500806885], Gradient: [-0.029047875201720696, -0.058095750403442614]\n",
            "Iteration 4: Point: [1.4920778522177125, -0.7984155704435425], Gradient: [-0.015844295564575006, 0.007922147782287503]\n",
            "Iteration 5: Point: [1.4981718120502412, -0.8014625503598068], Gradient: [-0.0036563758995176165, -0.007312751799034234]\n"
          ]
        }
      ],
      "source": [
        "result, iterations, points_list, gradient_list = gradient_descent(f, [x, y], [x0, y0], epsilon)\n",
        "print(\"Метод наискорейшего спуска:\")\n",
        "print(\"Начальная точка:\", [x0, y0])\n",
        "print(\"Количество итераций:\", iterations)\n",
        "print(\"Точка численного глобального минимума:\", result)\n",
        "print(\"Точки и значения градиента на каждой итерации:\")\n",
        "for i, point in enumerate(points_list):\n",
        "    print(f\"Iteration {i}: Point: {point}, Gradient: {gradient_list[i]}\")"
      ],
      "metadata": {
        "id": "G4ymD4LrP7kk",
        "outputId": "52bb013c-61a7-45ab-eb14-b4d89282035b"
      }
    },
    {
      "cell_type": "code",
      "execution_count": null,
      "outputs": [
        {
          "name": "stdout",
          "output_type": "stream",
          "text": [
            "Метод сопряженных градиентов:\n",
            "Начальная точка: [1.0, -0.7]\n",
            "Количество итераций: 4\n",
            "Точка численного глобального минимума: [ 1.4979554 -0.7995263]\n",
            "Точки и значения градиента на каждой итерации:\n",
            "Iteration 0: Point: [1.0, -0.7], Gradient: [-1.0, 0.5000000000000002]\n",
            "Iteration 1: Point: [1.3846153846153846, -0.8923076923076924], Gradient: [-0.23076923076923084, -0.4615384615384618]\n",
            "Iteration 2: Point: [1.4854760623991392, -0.8116191500806887], Gradient: [-0.029047875201721585, -0.058095750403443724]\n",
            "Iteration 3: Point: [1.4936759186073616, -0.7971371173318231], Gradient: [-0.012648162785276806, 0.014314413340884347]\n",
            "Iteration 4: Point: [1.4979553957899534, -0.7995262995837252], Gradient: [-0.004089208420093193, 0.0023685020813738467]\n"
          ]
        }
      ],
      "source": [
        "result, iterations, points_list, gradient_list = conjugate_gradients(f, [x, y], [x0, y0], epsilon)\n",
        "print(\"Метод сопряженных градиентов:\")\n",
        "print(\"Начальная точка:\", [x0, y0])\n",
        "print(\"Количество итераций:\", iterations)\n",
        "print(\"Точка численного глобального минимума:\", result)\n",
        "print(\"Точки и значения градиента на каждой итерации:\")\n",
        "for i, point in enumerate(points_list):\n",
        "    print(f\"Iteration {i}: Point: {point}, Gradient: {gradient_list[i]}\")"
      ],
      "metadata": {
        "id": "C0OyLQyDP7kk",
        "outputId": "e1a22d43-5731-45b3-baa5-7a981a2eb0cd"
      }
    },
    {
      "cell_type": "code",
      "execution_count": null,
      "outputs": [],
      "source": [],
      "metadata": {
        "id": "ws8NuYEhP7kl"
      }
    }
  ],
  "metadata": {
    "kernelspec": {
      "display_name": "Python 3",
      "language": "python",
      "name": "python3"
    },
    "language_info": {
      "codemirror_mode": {
        "name": "ipython",
        "version": 2
      },
      "file_extension": ".py",
      "mimetype": "text/x-python",
      "name": "python",
      "nbconvert_exporter": "python",
      "pygments_lexer": "ipython2",
      "version": "2.7.6"
    },
    "colab": {
      "provenance": []
    }
  },
  "nbformat": 4,
  "nbformat_minor": 0
}
